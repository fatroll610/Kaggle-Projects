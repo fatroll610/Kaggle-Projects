{
 "cells": [
  {
   "cell_type": "code",
   "execution_count": 1,
   "id": "baedc7c8",
   "metadata": {
    "_cell_guid": "b1076dfc-b9ad-4769-8c92-a6c4dae69d19",
    "_uuid": "8f2839f25d086af736a60e9eeb907d3b93b6e0e5",
    "execution": {
     "iopub.execute_input": "2023-03-06T09:29:25.218917Z",
     "iopub.status.busy": "2023-03-06T09:29:25.218113Z",
     "iopub.status.idle": "2023-03-06T09:29:26.566351Z",
     "shell.execute_reply": "2023-03-06T09:29:26.564861Z"
    },
    "papermill": {
     "duration": 1.363219,
     "end_time": "2023-03-06T09:29:26.570517",
     "exception": false,
     "start_time": "2023-03-06T09:29:25.207298",
     "status": "completed"
    },
    "tags": []
   },
   "outputs": [
    {
     "name": "stdout",
     "output_type": "stream",
     "text": [
      "/kaggle/input/titanic/train.csv\n",
      "/kaggle/input/titanic/test.csv\n",
      "/kaggle/input/titanic/gender_submission.csv\n"
     ]
    }
   ],
   "source": [
    "# This Python 3 environment comes with many helpful analytics libraries installed\n",
    "# It is defined by the kaggle/python Docker image: https://github.com/kaggle/docker-python\n",
    "# For example, here's several helpful packages to load\n",
    "\n",
    "import numpy as np # linear algebra\n",
    "import pandas as pd # data processing, CSV file I/O (e.g. pd.read_csv)\n",
    "import seaborn as sns\n",
    "\n",
    "# Input data files are available in the read-only \"../input/\" directory\n",
    "# For example, running this (by clicking run or pressing Shift+Enter) will list all files under the input directory\n",
    "\n",
    "import os\n",
    "for dirname, _, filenames in os.walk('/kaggle/input'):\n",
    "    for filename in filenames:\n",
    "        print(os.path.join(dirname, filename))\n",
    "\n",
    "# You can write up to 20GB to the current directory (/kaggle/working/) that gets preserved as output when you create a version using \"Save & Run All\" \n",
    "# You can also write temporary files to /kaggle/temp/, but they won't be saved outside of the current session"
   ]
  },
  {
   "cell_type": "code",
   "execution_count": 2,
   "id": "aa20db7e",
   "metadata": {
    "execution": {
     "iopub.execute_input": "2023-03-06T09:29:26.590229Z",
     "iopub.status.busy": "2023-03-06T09:29:26.589389Z",
     "iopub.status.idle": "2023-03-06T09:29:26.626299Z",
     "shell.execute_reply": "2023-03-06T09:29:26.624990Z"
    },
    "papermill": {
     "duration": 0.049375,
     "end_time": "2023-03-06T09:29:26.629052",
     "exception": false,
     "start_time": "2023-03-06T09:29:26.579677",
     "status": "completed"
    },
    "tags": []
   },
   "outputs": [],
   "source": [
    "train = pd.read_csv('/kaggle/input/titanic/train.csv')\n",
    "test = pd.read_csv('/kaggle/input/titanic/test.csv')"
   ]
  },
  {
   "cell_type": "code",
   "execution_count": 3,
   "id": "8205c39a",
   "metadata": {
    "execution": {
     "iopub.execute_input": "2023-03-06T09:29:26.647534Z",
     "iopub.status.busy": "2023-03-06T09:29:26.646770Z",
     "iopub.status.idle": "2023-03-06T09:29:26.679505Z",
     "shell.execute_reply": "2023-03-06T09:29:26.678178Z"
    },
    "papermill": {
     "duration": 0.045071,
     "end_time": "2023-03-06T09:29:26.682236",
     "exception": false,
     "start_time": "2023-03-06T09:29:26.637165",
     "status": "completed"
    },
    "tags": []
   },
   "outputs": [
    {
     "data": {
      "text/html": [
       "<div>\n",
       "<style scoped>\n",
       "    .dataframe tbody tr th:only-of-type {\n",
       "        vertical-align: middle;\n",
       "    }\n",
       "\n",
       "    .dataframe tbody tr th {\n",
       "        vertical-align: top;\n",
       "    }\n",
       "\n",
       "    .dataframe thead th {\n",
       "        text-align: right;\n",
       "    }\n",
       "</style>\n",
       "<table border=\"1\" class=\"dataframe\">\n",
       "  <thead>\n",
       "    <tr style=\"text-align: right;\">\n",
       "      <th></th>\n",
       "      <th>PassengerId</th>\n",
       "      <th>Survived</th>\n",
       "      <th>Pclass</th>\n",
       "      <th>Name</th>\n",
       "      <th>Sex</th>\n",
       "      <th>Age</th>\n",
       "      <th>SibSp</th>\n",
       "      <th>Parch</th>\n",
       "      <th>Ticket</th>\n",
       "      <th>Fare</th>\n",
       "      <th>Cabin</th>\n",
       "      <th>Embarked</th>\n",
       "    </tr>\n",
       "  </thead>\n",
       "  <tbody>\n",
       "    <tr>\n",
       "      <th>0</th>\n",
       "      <td>1</td>\n",
       "      <td>0</td>\n",
       "      <td>3</td>\n",
       "      <td>Braund, Mr. Owen Harris</td>\n",
       "      <td>male</td>\n",
       "      <td>22.0</td>\n",
       "      <td>1</td>\n",
       "      <td>0</td>\n",
       "      <td>A/5 21171</td>\n",
       "      <td>7.2500</td>\n",
       "      <td>NaN</td>\n",
       "      <td>S</td>\n",
       "    </tr>\n",
       "    <tr>\n",
       "      <th>1</th>\n",
       "      <td>2</td>\n",
       "      <td>1</td>\n",
       "      <td>1</td>\n",
       "      <td>Cumings, Mrs. John Bradley (Florence Briggs Th...</td>\n",
       "      <td>female</td>\n",
       "      <td>38.0</td>\n",
       "      <td>1</td>\n",
       "      <td>0</td>\n",
       "      <td>PC 17599</td>\n",
       "      <td>71.2833</td>\n",
       "      <td>C85</td>\n",
       "      <td>C</td>\n",
       "    </tr>\n",
       "    <tr>\n",
       "      <th>2</th>\n",
       "      <td>3</td>\n",
       "      <td>1</td>\n",
       "      <td>3</td>\n",
       "      <td>Heikkinen, Miss. Laina</td>\n",
       "      <td>female</td>\n",
       "      <td>26.0</td>\n",
       "      <td>0</td>\n",
       "      <td>0</td>\n",
       "      <td>STON/O2. 3101282</td>\n",
       "      <td>7.9250</td>\n",
       "      <td>NaN</td>\n",
       "      <td>S</td>\n",
       "    </tr>\n",
       "    <tr>\n",
       "      <th>3</th>\n",
       "      <td>4</td>\n",
       "      <td>1</td>\n",
       "      <td>1</td>\n",
       "      <td>Futrelle, Mrs. Jacques Heath (Lily May Peel)</td>\n",
       "      <td>female</td>\n",
       "      <td>35.0</td>\n",
       "      <td>1</td>\n",
       "      <td>0</td>\n",
       "      <td>113803</td>\n",
       "      <td>53.1000</td>\n",
       "      <td>C123</td>\n",
       "      <td>S</td>\n",
       "    </tr>\n",
       "    <tr>\n",
       "      <th>4</th>\n",
       "      <td>5</td>\n",
       "      <td>0</td>\n",
       "      <td>3</td>\n",
       "      <td>Allen, Mr. William Henry</td>\n",
       "      <td>male</td>\n",
       "      <td>35.0</td>\n",
       "      <td>0</td>\n",
       "      <td>0</td>\n",
       "      <td>373450</td>\n",
       "      <td>8.0500</td>\n",
       "      <td>NaN</td>\n",
       "      <td>S</td>\n",
       "    </tr>\n",
       "  </tbody>\n",
       "</table>\n",
       "</div>"
      ],
      "text/plain": [
       "   PassengerId  Survived  Pclass  \\\n",
       "0            1         0       3   \n",
       "1            2         1       1   \n",
       "2            3         1       3   \n",
       "3            4         1       1   \n",
       "4            5         0       3   \n",
       "\n",
       "                                                Name     Sex   Age  SibSp  \\\n",
       "0                            Braund, Mr. Owen Harris    male  22.0      1   \n",
       "1  Cumings, Mrs. John Bradley (Florence Briggs Th...  female  38.0      1   \n",
       "2                             Heikkinen, Miss. Laina  female  26.0      0   \n",
       "3       Futrelle, Mrs. Jacques Heath (Lily May Peel)  female  35.0      1   \n",
       "4                           Allen, Mr. William Henry    male  35.0      0   \n",
       "\n",
       "   Parch            Ticket     Fare Cabin Embarked  \n",
       "0      0         A/5 21171   7.2500   NaN        S  \n",
       "1      0          PC 17599  71.2833   C85        C  \n",
       "2      0  STON/O2. 3101282   7.9250   NaN        S  \n",
       "3      0            113803  53.1000  C123        S  \n",
       "4      0            373450   8.0500   NaN        S  "
      ]
     },
     "execution_count": 3,
     "metadata": {},
     "output_type": "execute_result"
    }
   ],
   "source": [
    "train.head(5)"
   ]
  },
  {
   "cell_type": "code",
   "execution_count": 4,
   "id": "4c2b8aa6",
   "metadata": {
    "execution": {
     "iopub.execute_input": "2023-03-06T09:29:26.700995Z",
     "iopub.status.busy": "2023-03-06T09:29:26.700420Z",
     "iopub.status.idle": "2023-03-06T09:29:26.710900Z",
     "shell.execute_reply": "2023-03-06T09:29:26.709539Z"
    },
    "papermill": {
     "duration": 0.02282,
     "end_time": "2023-03-06T09:29:26.713436",
     "exception": false,
     "start_time": "2023-03-06T09:29:26.690616",
     "status": "completed"
    },
    "tags": []
   },
   "outputs": [
    {
     "data": {
      "text/plain": [
       "PassengerId      0\n",
       "Survived         0\n",
       "Pclass           0\n",
       "Name             0\n",
       "Sex              0\n",
       "Age            177\n",
       "SibSp            0\n",
       "Parch            0\n",
       "Ticket           0\n",
       "Fare             0\n",
       "Cabin          687\n",
       "Embarked         2\n",
       "dtype: int64"
      ]
     },
     "execution_count": 4,
     "metadata": {},
     "output_type": "execute_result"
    }
   ],
   "source": [
    "train.isnull().sum()"
   ]
  },
  {
   "cell_type": "code",
   "execution_count": 5,
   "id": "cc2d5a89",
   "metadata": {
    "execution": {
     "iopub.execute_input": "2023-03-06T09:29:26.733302Z",
     "iopub.status.busy": "2023-03-06T09:29:26.732124Z",
     "iopub.status.idle": "2023-03-06T09:29:26.737239Z",
     "shell.execute_reply": "2023-03-06T09:29:26.736320Z"
    },
    "papermill": {
     "duration": 0.017451,
     "end_time": "2023-03-06T09:29:26.739608",
     "exception": false,
     "start_time": "2023-03-06T09:29:26.722157",
     "status": "completed"
    },
    "tags": []
   },
   "outputs": [],
   "source": [
    "Dataset = [train,test]"
   ]
  },
  {
   "cell_type": "markdown",
   "id": "857d3729",
   "metadata": {
    "papermill": {
     "duration": 0.008228,
     "end_time": "2023-03-06T09:29:26.756764",
     "exception": false,
     "start_time": "2023-03-06T09:29:26.748536",
     "status": "completed"
    },
    "tags": []
   },
   "source": [
    "## Extract the Title for the dataset"
   ]
  },
  {
   "cell_type": "code",
   "execution_count": 6,
   "id": "56a9773f",
   "metadata": {
    "execution": {
     "iopub.execute_input": "2023-03-06T09:29:26.776693Z",
     "iopub.status.busy": "2023-03-06T09:29:26.775660Z",
     "iopub.status.idle": "2023-03-06T09:29:26.798231Z",
     "shell.execute_reply": "2023-03-06T09:29:26.797056Z"
    },
    "papermill": {
     "duration": 0.034995,
     "end_time": "2023-03-06T09:29:26.800804",
     "exception": false,
     "start_time": "2023-03-06T09:29:26.765809",
     "status": "completed"
    },
    "tags": []
   },
   "outputs": [
    {
     "data": {
      "text/plain": [
       "Mr          517\n",
       "Miss        182\n",
       "Mrs         125\n",
       "Master       40\n",
       "Dr            7\n",
       "Rev           6\n",
       "Mlle          2\n",
       "Major         2\n",
       "Col           2\n",
       "Countess      1\n",
       "Capt          1\n",
       "Ms            1\n",
       "Sir           1\n",
       "Lady          1\n",
       "Mme           1\n",
       "Don           1\n",
       "Jonkheer      1\n",
       "Name: Title, dtype: int64"
      ]
     },
     "execution_count": 6,
     "metadata": {},
     "output_type": "execute_result"
    }
   ],
   "source": [
    "for dataset in Dataset:\n",
    "    dataset['Title'] = dataset['Name'].str.extract(' ([A-Za-z]+)\\.', expand=False)\n",
    "train['Title'].value_counts()"
   ]
  },
  {
   "cell_type": "code",
   "execution_count": 7,
   "id": "2b33f19d",
   "metadata": {
    "execution": {
     "iopub.execute_input": "2023-03-06T09:29:26.821410Z",
     "iopub.status.busy": "2023-03-06T09:29:26.820582Z",
     "iopub.status.idle": "2023-03-06T09:29:26.830268Z",
     "shell.execute_reply": "2023-03-06T09:29:26.829272Z"
    },
    "papermill": {
     "duration": 0.022363,
     "end_time": "2023-03-06T09:29:26.832740",
     "exception": false,
     "start_time": "2023-03-06T09:29:26.810377",
     "status": "completed"
    },
    "tags": []
   },
   "outputs": [
    {
     "data": {
      "text/plain": [
       "Mr        240\n",
       "Miss       78\n",
       "Mrs        72\n",
       "Master     21\n",
       "Col         2\n",
       "Rev         2\n",
       "Ms          1\n",
       "Dr          1\n",
       "Dona        1\n",
       "Name: Title, dtype: int64"
      ]
     },
     "execution_count": 7,
     "metadata": {},
     "output_type": "execute_result"
    }
   ],
   "source": [
    "test['Title'].value_counts()"
   ]
  },
  {
   "cell_type": "code",
   "execution_count": 8,
   "id": "1f0e1682",
   "metadata": {
    "execution": {
     "iopub.execute_input": "2023-03-06T09:29:26.854420Z",
     "iopub.status.busy": "2023-03-06T09:29:26.853653Z",
     "iopub.status.idle": "2023-03-06T09:29:26.878882Z",
     "shell.execute_reply": "2023-03-06T09:29:26.877715Z"
    },
    "papermill": {
     "duration": 0.038655,
     "end_time": "2023-03-06T09:29:26.881886",
     "exception": false,
     "start_time": "2023-03-06T09:29:26.843231",
     "status": "completed"
    },
    "tags": []
   },
   "outputs": [],
   "source": [
    "def replace_titles(x):\n",
    "    title=x['Title']\n",
    "    if title in ['Countess','Rev','Major','Sir','Lady']:\n",
    "        return 'Master'\n",
    "    if title in ['Col','Capt',]:\n",
    "        return 'Mr'\n",
    "    elif title in ['Mme']:\n",
    "        return 'Mrs'\n",
    "    elif title in ['Mlle', 'Ms']:\n",
    "        return 'Miss'\n",
    "    elif title in ['Dr','Don','Jonkheer','Dona']:\n",
    "        if x['Sex']=='Male':\n",
    "            return 'Mr'\n",
    "        else:\n",
    "            return 'Mrs'\n",
    "    else:\n",
    "        return title\n",
    "    \n",
    "train['Title']=train.apply(replace_titles, axis=1)\n",
    "test['Title']=test.apply(replace_titles, axis=1)"
   ]
  },
  {
   "cell_type": "code",
   "execution_count": 9,
   "id": "f18c3ad5",
   "metadata": {
    "execution": {
     "iopub.execute_input": "2023-03-06T09:29:26.901557Z",
     "iopub.status.busy": "2023-03-06T09:29:26.900711Z",
     "iopub.status.idle": "2023-03-06T09:29:26.910482Z",
     "shell.execute_reply": "2023-03-06T09:29:26.909179Z"
    },
    "papermill": {
     "duration": 0.022494,
     "end_time": "2023-03-06T09:29:26.913002",
     "exception": false,
     "start_time": "2023-03-06T09:29:26.890508",
     "status": "completed"
    },
    "tags": []
   },
   "outputs": [
    {
     "data": {
      "text/plain": [
       "Mr        520\n",
       "Miss      185\n",
       "Mrs       135\n",
       "Master     51\n",
       "Name: Title, dtype: int64"
      ]
     },
     "execution_count": 9,
     "metadata": {},
     "output_type": "execute_result"
    }
   ],
   "source": [
    "train['Title'].value_counts()"
   ]
  },
  {
   "cell_type": "code",
   "execution_count": 10,
   "id": "4c6d2272",
   "metadata": {
    "execution": {
     "iopub.execute_input": "2023-03-06T09:29:26.933094Z",
     "iopub.status.busy": "2023-03-06T09:29:26.932229Z",
     "iopub.status.idle": "2023-03-06T09:29:27.307618Z",
     "shell.execute_reply": "2023-03-06T09:29:27.306394Z"
    },
    "papermill": {
     "duration": 0.388512,
     "end_time": "2023-03-06T09:29:27.310335",
     "exception": false,
     "start_time": "2023-03-06T09:29:26.921823",
     "status": "completed"
    },
    "tags": []
   },
   "outputs": [
    {
     "data": {
      "text/plain": [
       "<AxesSubplot:xlabel='Title', ylabel='Survived'>"
      ]
     },
     "execution_count": 10,
     "metadata": {},
     "output_type": "execute_result"
    },
    {
     "data": {
      "image/png": "[encoded data removed]",
      "text/plain": [
       "<Figure size 640x480 with 1 Axes>"
      ]
     },
     "metadata": {},
     "output_type": "display_data"
    }
   ],
   "source": [
    "sns.barplot(x='Title',y='Survived',data = train)"
   ]
  },
  {
   "cell_type": "code",
   "execution_count": 11,
   "id": "a5614d3a",
   "metadata": {
    "execution": {
     "iopub.execute_input": "2023-03-06T09:29:27.331445Z",
     "iopub.status.busy": "2023-03-06T09:29:27.331025Z",
     "iopub.status.idle": "2023-03-06T09:29:27.347970Z",
     "shell.execute_reply": "2023-03-06T09:29:27.346943Z"
    },
    "papermill": {
     "duration": 0.030673,
     "end_time": "2023-03-06T09:29:27.350333",
     "exception": false,
     "start_time": "2023-03-06T09:29:27.319660",
     "status": "completed"
    },
    "tags": []
   },
   "outputs": [
    {
     "data": {
      "text/plain": [
       "PassengerId      0\n",
       "Survived         0\n",
       "Pclass           0\n",
       "Name             0\n",
       "Sex              0\n",
       "Age              0\n",
       "SibSp            0\n",
       "Parch            0\n",
       "Ticket           0\n",
       "Fare             0\n",
       "Cabin          687\n",
       "Embarked         2\n",
       "Title            0\n",
       "dtype: int64"
      ]
     },
     "execution_count": 11,
     "metadata": {},
     "output_type": "execute_result"
    }
   ],
   "source": [
    "train[\"Age\"].fillna(train.groupby(\"Title\")[\"Age\"].transform(\"mean\"), inplace=True)\n",
    "test[\"Age\"].fillna(test.groupby(\"Title\")[\"Age\"].transform(\"mean\"), inplace=True)\n",
    "train.isnull().sum()"
   ]
  },
  {
   "cell_type": "markdown",
   "id": "f311e426",
   "metadata": {
    "papermill": {
     "duration": 0.009187,
     "end_time": "2023-03-06T09:29:27.369267",
     "exception": false,
     "start_time": "2023-03-06T09:29:27.360080",
     "status": "completed"
    },
    "tags": []
   },
   "source": [
    "## Relatives and Fare"
   ]
  },
  {
   "cell_type": "code",
   "execution_count": 12,
   "id": "77bbbd55",
   "metadata": {
    "execution": {
     "iopub.execute_input": "2023-03-06T09:29:27.390434Z",
     "iopub.status.busy": "2023-03-06T09:29:27.390037Z",
     "iopub.status.idle": "2023-03-06T09:29:27.398520Z",
     "shell.execute_reply": "2023-03-06T09:29:27.397626Z"
    },
    "papermill": {
     "duration": 0.021388,
     "end_time": "2023-03-06T09:29:27.400730",
     "exception": false,
     "start_time": "2023-03-06T09:29:27.379342",
     "status": "completed"
    },
    "tags": []
   },
   "outputs": [],
   "source": [
    "for dataset in Dataset:\n",
    "    dataset['relatives'] = dataset['SibSp'] + dataset['Parch']\n",
    "    del dataset['SibSp']\n",
    "    del dataset['Parch']"
   ]
  },
  {
   "cell_type": "code",
   "execution_count": 13,
   "id": "e743bb9a",
   "metadata": {
    "execution": {
     "iopub.execute_input": "2023-03-06T09:29:27.421693Z",
     "iopub.status.busy": "2023-03-06T09:29:27.420992Z",
     "iopub.status.idle": "2023-03-06T09:29:27.429155Z",
     "shell.execute_reply": "2023-03-06T09:29:27.427914Z"
    },
    "papermill": {
     "duration": 0.021502,
     "end_time": "2023-03-06T09:29:27.431611",
     "exception": false,
     "start_time": "2023-03-06T09:29:27.410109",
     "status": "completed"
    },
    "tags": []
   },
   "outputs": [],
   "source": [
    "def fare_range_plot(dataset, train=True):\n",
    "    if train:\n",
    "        survived = dataset[dataset['Survived']==1]['Fare']\n",
    "    else:\n",
    "        survived = dataset['Fare']\n",
    "    list_100 = list(range(0, 100, 10))\n",
    "    list_100_to_700 = list(range(100, 700, 100))\n",
    "    list_100.extend(list_100_to_700)\n",
    "    survived_range = pd.cut(survived, list_100, right=True)\n",
    "    survived_freq = survived_range.value_counts(sort=False)\n",
    "    all_range = pd.cut(dataset['Fare'], list_100, right=True)\n",
    "    all_freq = all_range.value_counts(sort=False)\n",
    "    prob = survived_freq / all_freq\n",
    "    prob.plot(kind='bar')\n",
    "    \n",
    "    return list_100, prob"
   ]
  },
  {
   "cell_type": "code",
   "execution_count": 14,
   "id": "290df3e0",
   "metadata": {
    "execution": {
     "iopub.execute_input": "2023-03-06T09:29:27.455215Z",
     "iopub.status.busy": "2023-03-06T09:29:27.454758Z",
     "iopub.status.idle": "2023-03-06T09:29:27.819577Z",
     "shell.execute_reply": "2023-03-06T09:29:27.818662Z"
    },
    "papermill": {
     "duration": 0.37902,
     "end_time": "2023-03-06T09:29:27.821850",
     "exception": false,
     "start_time": "2023-03-06T09:29:27.442830",
     "status": "completed"
    },
    "tags": []
   },
   "outputs": [
    {
     "data": {
      "image/png": "[encoded data removed]",
      "text/plain": [
       "<Figure size 640x480 with 1 Axes>"
      ]
     },
     "metadata": {},
     "output_type": "display_data"
    }
   ],
   "source": [
    "list_cut, prob = fare_range_plot(train)\n",
    "train['Fare_level'] = pd.cut(x = train['Fare'], bins = list_cut, labels = prob, include_lowest = True, ordered = False)\n",
    "test['Fare_level'] = pd.cut(x = test['Fare'], bins = list_cut, labels = prob, include_lowest = True, ordered = False)"
   ]
  },
  {
   "cell_type": "code",
   "execution_count": 15,
   "id": "138b5e49",
   "metadata": {
    "execution": {
     "iopub.execute_input": "2023-03-06T09:29:27.843542Z",
     "iopub.status.busy": "2023-03-06T09:29:27.842867Z",
     "iopub.status.idle": "2023-03-06T09:29:27.850163Z",
     "shell.execute_reply": "2023-03-06T09:29:27.848930Z"
    },
    "papermill": {
     "duration": 0.021342,
     "end_time": "2023-03-06T09:29:27.852915",
     "exception": false,
     "start_time": "2023-03-06T09:29:27.831573",
     "status": "completed"
    },
    "tags": []
   },
   "outputs": [],
   "source": [
    "train['Fare_level'] = train['Fare_level'].astype(float)\n",
    "test['Fare_level'] = test['Fare_level'].astype(float)"
   ]
  },
  {
   "cell_type": "markdown",
   "id": "9282e308",
   "metadata": {
    "papermill": {
     "duration": 0.009857,
     "end_time": "2023-03-06T09:29:27.872577",
     "exception": false,
     "start_time": "2023-03-06T09:29:27.862720",
     "status": "completed"
    },
    "tags": []
   },
   "source": [
    "## Cabin"
   ]
  },
  {
   "cell_type": "code",
   "execution_count": 16,
   "id": "af9f290b",
   "metadata": {
    "execution": {
     "iopub.execute_input": "2023-03-06T09:29:27.894332Z",
     "iopub.status.busy": "2023-03-06T09:29:27.893890Z",
     "iopub.status.idle": "2023-03-06T09:29:28.202067Z",
     "shell.execute_reply": "2023-03-06T09:29:28.201007Z"
    },
    "papermill": {
     "duration": 0.322655,
     "end_time": "2023-03-06T09:29:28.204851",
     "exception": false,
     "start_time": "2023-03-06T09:29:27.882196",
     "status": "completed"
    },
    "tags": []
   },
   "outputs": [
    {
     "data": {
      "text/plain": [
       "<AxesSubplot:xlabel='RN', ylabel='Survived'>"
      ]
     },
     "execution_count": 16,
     "metadata": {},
     "output_type": "execute_result"
    },
    {
     "data": {
      "image/png": "[encoded data removed]",
      "text/plain": [
       "<Figure size 640x480 with 1 Axes>"
      ]
     },
     "metadata": {},
     "output_type": "display_data"
    }
   ],
   "source": [
    "train['Cabin']=train['Cabin'].fillna('Z')\n",
    "train['RN']=train['Cabin'].apply(lambda x:x[0])\n",
    "def Cabin_Label(x):\n",
    "    if ((x=='E')|(x=='D')|(x=='B')):\n",
    "        return 2\n",
    "    elif ((x=='C')|(x=='G')|(x=='A')|(x=='F')):\n",
    "        return 1\n",
    "    else:\n",
    "        return 0\n",
    "train['RN']=train['RN'].apply(Cabin_Label)\n",
    "sns.barplot(x='RN',y='Survived',data=train)"
   ]
  },
  {
   "cell_type": "code",
   "execution_count": 17,
   "id": "f226f32b",
   "metadata": {
    "execution": {
     "iopub.execute_input": "2023-03-06T09:29:28.227369Z",
     "iopub.status.busy": "2023-03-06T09:29:28.226930Z",
     "iopub.status.idle": "2023-03-06T09:29:28.237558Z",
     "shell.execute_reply": "2023-03-06T09:29:28.236434Z"
    },
    "papermill": {
     "duration": 0.024565,
     "end_time": "2023-03-06T09:29:28.239985",
     "exception": false,
     "start_time": "2023-03-06T09:29:28.215420",
     "status": "completed"
    },
    "tags": []
   },
   "outputs": [],
   "source": [
    "test['Cabin']=test['Cabin'].fillna('Z')\n",
    "test['RN']=test['Cabin'].  apply(lambda x:x[0])\n",
    "def Cabin_Label(x):\n",
    "    if ((x=='E')|(x=='D')|(x=='B')):\n",
    "        return 2\n",
    "    elif ((x=='C')|(x=='G')|(x=='A')|(x=='F')):\n",
    "        return 1\n",
    "    else:\n",
    "        return 0\n",
    "test['RN']=test['RN'].apply(Cabin_Label)\n",
    "#sns.barplot(x='RN',y='Survived',data=test)"
   ]
  },
  {
   "cell_type": "markdown",
   "id": "a6b73844",
   "metadata": {
    "papermill": {
     "duration": 0.009562,
     "end_time": "2023-03-06T09:29:28.259660",
     "exception": false,
     "start_time": "2023-03-06T09:29:28.250098",
     "status": "completed"
    },
    "tags": []
   },
   "source": [
    "## Tickets\n"
   ]
  },
  {
   "cell_type": "code",
   "execution_count": 18,
   "id": "9de9af46",
   "metadata": {
    "execution": {
     "iopub.execute_input": "2023-03-06T09:29:28.281393Z",
     "iopub.status.busy": "2023-03-06T09:29:28.280678Z",
     "iopub.status.idle": "2023-03-06T09:29:28.297188Z",
     "shell.execute_reply": "2023-03-06T09:29:28.295988Z"
    },
    "papermill": {
     "duration": 0.03054,
     "end_time": "2023-03-06T09:29:28.300049",
     "exception": false,
     "start_time": "2023-03-06T09:29:28.269509",
     "status": "completed"
    },
    "tags": []
   },
   "outputs": [],
   "source": [
    "for dataset in Dataset:\n",
    "    Ticket_Count = dataset['Ticket'].value_counts()\n",
    "    dataset['peoplenumber'] = dataset['Ticket'].apply(lambda x:Ticket_Count[x])\n",
    "#sns.barplot(x = 'peoplenumber', y = \"Survived\", data = all_data)"
   ]
  },
  {
   "cell_type": "code",
   "execution_count": 19,
   "id": "eba509ab",
   "metadata": {
    "execution": {
     "iopub.execute_input": "2023-03-06T09:29:28.322732Z",
     "iopub.status.busy": "2023-03-06T09:29:28.321653Z",
     "iopub.status.idle": "2023-03-06T09:29:28.340397Z",
     "shell.execute_reply": "2023-03-06T09:29:28.339234Z"
    },
    "papermill": {
     "duration": 0.032349,
     "end_time": "2023-03-06T09:29:28.342692",
     "exception": false,
     "start_time": "2023-03-06T09:29:28.310343",
     "status": "completed"
    },
    "tags": []
   },
   "outputs": [
    {
     "data": {
      "text/html": [
       "<div>\n",
       "<style scoped>\n",
       "    .dataframe tbody tr th:only-of-type {\n",
       "        vertical-align: middle;\n",
       "    }\n",
       "\n",
       "    .dataframe tbody tr th {\n",
       "        vertical-align: top;\n",
       "    }\n",
       "\n",
       "    .dataframe thead th {\n",
       "        text-align: right;\n",
       "    }\n",
       "</style>\n",
       "<table border=\"1\" class=\"dataframe\">\n",
       "  <thead>\n",
       "    <tr style=\"text-align: right;\">\n",
       "      <th></th>\n",
       "      <th>PassengerId</th>\n",
       "      <th>Survived</th>\n",
       "      <th>Pclass</th>\n",
       "      <th>Name</th>\n",
       "      <th>Sex</th>\n",
       "      <th>Age</th>\n",
       "      <th>Ticket</th>\n",
       "      <th>Fare</th>\n",
       "      <th>Cabin</th>\n",
       "      <th>Embarked</th>\n",
       "      <th>Title</th>\n",
       "      <th>relatives</th>\n",
       "      <th>Fare_level</th>\n",
       "      <th>RN</th>\n",
       "      <th>peoplenumber</th>\n",
       "    </tr>\n",
       "  </thead>\n",
       "  <tbody>\n",
       "    <tr>\n",
       "      <th>0</th>\n",
       "      <td>1</td>\n",
       "      <td>0</td>\n",
       "      <td>3</td>\n",
       "      <td>Braund, Mr. Owen Harris</td>\n",
       "      <td>male</td>\n",
       "      <td>22.0</td>\n",
       "      <td>A/5 21171</td>\n",
       "      <td>7.2500</td>\n",
       "      <td>Z</td>\n",
       "      <td>S</td>\n",
       "      <td>Mr</td>\n",
       "      <td>1</td>\n",
       "      <td>0.205607</td>\n",
       "      <td>0</td>\n",
       "      <td>1</td>\n",
       "    </tr>\n",
       "    <tr>\n",
       "      <th>1</th>\n",
       "      <td>2</td>\n",
       "      <td>1</td>\n",
       "      <td>1</td>\n",
       "      <td>Cumings, Mrs. John Bradley (Florence Briggs Th...</td>\n",
       "      <td>female</td>\n",
       "      <td>38.0</td>\n",
       "      <td>PC 17599</td>\n",
       "      <td>71.2833</td>\n",
       "      <td>C85</td>\n",
       "      <td>C</td>\n",
       "      <td>Mrs</td>\n",
       "      <td>1</td>\n",
       "      <td>0.612903</td>\n",
       "      <td>1</td>\n",
       "      <td>1</td>\n",
       "    </tr>\n",
       "    <tr>\n",
       "      <th>2</th>\n",
       "      <td>3</td>\n",
       "      <td>1</td>\n",
       "      <td>3</td>\n",
       "      <td>Heikkinen, Miss. Laina</td>\n",
       "      <td>female</td>\n",
       "      <td>26.0</td>\n",
       "      <td>STON/O2. 3101282</td>\n",
       "      <td>7.9250</td>\n",
       "      <td>Z</td>\n",
       "      <td>S</td>\n",
       "      <td>Miss</td>\n",
       "      <td>0</td>\n",
       "      <td>0.205607</td>\n",
       "      <td>0</td>\n",
       "      <td>1</td>\n",
       "    </tr>\n",
       "  </tbody>\n",
       "</table>\n",
       "</div>"
      ],
      "text/plain": [
       "   PassengerId  Survived  Pclass  \\\n",
       "0            1         0       3   \n",
       "1            2         1       1   \n",
       "2            3         1       3   \n",
       "\n",
       "                                                Name     Sex   Age  \\\n",
       "0                            Braund, Mr. Owen Harris    male  22.0   \n",
       "1  Cumings, Mrs. John Bradley (Florence Briggs Th...  female  38.0   \n",
       "2                             Heikkinen, Miss. Laina  female  26.0   \n",
       "\n",
       "             Ticket     Fare Cabin Embarked Title  relatives  Fare_level  RN  \\\n",
       "0         A/5 21171   7.2500     Z        S    Mr          1    0.205607   0   \n",
       "1          PC 17599  71.2833   C85        C   Mrs          1    0.612903   1   \n",
       "2  STON/O2. 3101282   7.9250     Z        S  Miss          0    0.205607   0   \n",
       "\n",
       "   peoplenumber  \n",
       "0             1  \n",
       "1             1  \n",
       "2             1  "
      ]
     },
     "execution_count": 19,
     "metadata": {},
     "output_type": "execute_result"
    }
   ],
   "source": [
    "train.head(3)"
   ]
  },
  {
   "cell_type": "markdown",
   "id": "bf788520",
   "metadata": {
    "papermill": {
     "duration": 0.009972,
     "end_time": "2023-03-06T09:29:28.362994",
     "exception": false,
     "start_time": "2023-03-06T09:29:28.353022",
     "status": "completed"
    },
    "tags": []
   },
   "source": [
    "## Drop feature"
   ]
  },
  {
   "cell_type": "code",
   "execution_count": 20,
   "id": "df7f1cb3",
   "metadata": {
    "execution": {
     "iopub.execute_input": "2023-03-06T09:29:28.385971Z",
     "iopub.status.busy": "2023-03-06T09:29:28.385016Z",
     "iopub.status.idle": "2023-03-06T09:29:28.396769Z",
     "shell.execute_reply": "2023-03-06T09:29:28.395781Z"
    },
    "papermill": {
     "duration": 0.025695,
     "end_time": "2023-03-06T09:29:28.399090",
     "exception": false,
     "start_time": "2023-03-06T09:29:28.373395",
     "status": "completed"
    },
    "tags": []
   },
   "outputs": [],
   "source": [
    "features_drop = ['PassengerId','Name','Ticket','Cabin','Embarked','Fare']\n",
    "train = train.drop(features_drop, axis=1)\n",
    "test = test.drop(features_drop, axis=1)\n",
    "target = train['Survived']\n",
    "train = train.drop('Survived', axis=1)"
   ]
  },
  {
   "cell_type": "code",
   "execution_count": 21,
   "id": "e17c6127",
   "metadata": {
    "execution": {
     "iopub.execute_input": "2023-03-06T09:29:28.422328Z",
     "iopub.status.busy": "2023-03-06T09:29:28.421626Z",
     "iopub.status.idle": "2023-03-06T09:29:28.435494Z",
     "shell.execute_reply": "2023-03-06T09:29:28.434347Z"
    },
    "papermill": {
     "duration": 0.027789,
     "end_time": "2023-03-06T09:29:28.437749",
     "exception": false,
     "start_time": "2023-03-06T09:29:28.409960",
     "status": "completed"
    },
    "tags": []
   },
   "outputs": [
    {
     "data": {
      "text/html": [
       "<div>\n",
       "<style scoped>\n",
       "    .dataframe tbody tr th:only-of-type {\n",
       "        vertical-align: middle;\n",
       "    }\n",
       "\n",
       "    .dataframe tbody tr th {\n",
       "        vertical-align: top;\n",
       "    }\n",
       "\n",
       "    .dataframe thead th {\n",
       "        text-align: right;\n",
       "    }\n",
       "</style>\n",
       "<table border=\"1\" class=\"dataframe\">\n",
       "  <thead>\n",
       "    <tr style=\"text-align: right;\">\n",
       "      <th></th>\n",
       "      <th>Pclass</th>\n",
       "      <th>Sex</th>\n",
       "      <th>Age</th>\n",
       "      <th>Title</th>\n",
       "      <th>relatives</th>\n",
       "      <th>Fare_level</th>\n",
       "      <th>RN</th>\n",
       "      <th>peoplenumber</th>\n",
       "    </tr>\n",
       "  </thead>\n",
       "  <tbody>\n",
       "    <tr>\n",
       "      <th>0</th>\n",
       "      <td>3</td>\n",
       "      <td>male</td>\n",
       "      <td>22.0</td>\n",
       "      <td>Mr</td>\n",
       "      <td>1</td>\n",
       "      <td>0.205607</td>\n",
       "      <td>0</td>\n",
       "      <td>1</td>\n",
       "    </tr>\n",
       "    <tr>\n",
       "      <th>1</th>\n",
       "      <td>1</td>\n",
       "      <td>female</td>\n",
       "      <td>38.0</td>\n",
       "      <td>Mrs</td>\n",
       "      <td>1</td>\n",
       "      <td>0.612903</td>\n",
       "      <td>1</td>\n",
       "      <td>1</td>\n",
       "    </tr>\n",
       "    <tr>\n",
       "      <th>2</th>\n",
       "      <td>3</td>\n",
       "      <td>female</td>\n",
       "      <td>26.0</td>\n",
       "      <td>Miss</td>\n",
       "      <td>0</td>\n",
       "      <td>0.205607</td>\n",
       "      <td>0</td>\n",
       "      <td>1</td>\n",
       "    </tr>\n",
       "  </tbody>\n",
       "</table>\n",
       "</div>"
      ],
      "text/plain": [
       "   Pclass     Sex   Age Title  relatives  Fare_level  RN  peoplenumber\n",
       "0       3    male  22.0    Mr          1    0.205607   0             1\n",
       "1       1  female  38.0   Mrs          1    0.612903   1             1\n",
       "2       3  female  26.0  Miss          0    0.205607   0             1"
      ]
     },
     "execution_count": 21,
     "metadata": {},
     "output_type": "execute_result"
    }
   ],
   "source": [
    "train.head(3)"
   ]
  },
  {
   "cell_type": "code",
   "execution_count": 22,
   "id": "3aff076e",
   "metadata": {
    "execution": {
     "iopub.execute_input": "2023-03-06T09:29:28.460575Z",
     "iopub.status.busy": "2023-03-06T09:29:28.460158Z",
     "iopub.status.idle": "2023-03-06T09:29:28.464989Z",
     "shell.execute_reply": "2023-03-06T09:29:28.463651Z"
    },
    "papermill": {
     "duration": 0.019029,
     "end_time": "2023-03-06T09:29:28.467286",
     "exception": false,
     "start_time": "2023-03-06T09:29:28.448257",
     "status": "completed"
    },
    "tags": []
   },
   "outputs": [],
   "source": [
    "# from sklearn.preprocessing import OneHotEncoder \n",
    "# from sklearn.impute import SimpleImputer \n",
    "# from sklearn.compose import ColumnTransformer \n",
    "# from sklearn.pipeline import Pipeline\n",
    "# categorical_tf = Pipeline(steps = [ (\"cat_impute\", SimpleImputer(strategy = 'most_frequent')), (\"encoder\", OneHotEncoder()) ])"
   ]
  },
  {
   "cell_type": "code",
   "execution_count": 23,
   "id": "a4c52d19",
   "metadata": {
    "execution": {
     "iopub.execute_input": "2023-03-06T09:29:28.490102Z",
     "iopub.status.busy": "2023-03-06T09:29:28.489698Z",
     "iopub.status.idle": "2023-03-06T09:29:28.495158Z",
     "shell.execute_reply": "2023-03-06T09:29:28.493740Z"
    },
    "papermill": {
     "duration": 0.019632,
     "end_time": "2023-03-06T09:29:28.497394",
     "exception": false,
     "start_time": "2023-03-06T09:29:28.477762",
     "status": "completed"
    },
    "tags": []
   },
   "outputs": [],
   "source": [
    "cat_feature = ['Sex','Title']\n",
    "# col_tf = ColumnTransformer(transformers = [('cat', categorical_tf, cat_feature)])"
   ]
  },
  {
   "cell_type": "code",
   "execution_count": 24,
   "id": "0e4dff0d",
   "metadata": {
    "execution": {
     "iopub.execute_input": "2023-03-06T09:29:28.519882Z",
     "iopub.status.busy": "2023-03-06T09:29:28.519438Z",
     "iopub.status.idle": "2023-03-06T09:29:28.705371Z",
     "shell.execute_reply": "2023-03-06T09:29:28.703841Z"
    },
    "papermill": {
     "duration": 0.20051,
     "end_time": "2023-03-06T09:29:28.708346",
     "exception": false,
     "start_time": "2023-03-06T09:29:28.507836",
     "status": "completed"
    },
    "tags": []
   },
   "outputs": [],
   "source": [
    "from sklearn.preprocessing import LabelEncoder\n",
    "l1=LabelEncoder()\n",
    "for feature in cat_feature:\n",
    "    train[feature]=l1.fit_transform(train[feature])\n",
    "    test[feature]=l1.fit_transform(test[feature])"
   ]
  },
  {
   "cell_type": "code",
   "execution_count": 25,
   "id": "e2b6cfc3",
   "metadata": {
    "execution": {
     "iopub.execute_input": "2023-03-06T09:29:28.731748Z",
     "iopub.status.busy": "2023-03-06T09:29:28.730691Z",
     "iopub.status.idle": "2023-03-06T09:29:28.745618Z",
     "shell.execute_reply": "2023-03-06T09:29:28.744140Z"
    },
    "papermill": {
     "duration": 0.029063,
     "end_time": "2023-03-06T09:29:28.747913",
     "exception": false,
     "start_time": "2023-03-06T09:29:28.718850",
     "status": "completed"
    },
    "tags": []
   },
   "outputs": [
    {
     "data": {
      "text/html": [
       "<div>\n",
       "<style scoped>\n",
       "    .dataframe tbody tr th:only-of-type {\n",
       "        vertical-align: middle;\n",
       "    }\n",
       "\n",
       "    .dataframe tbody tr th {\n",
       "        vertical-align: top;\n",
       "    }\n",
       "\n",
       "    .dataframe thead th {\n",
       "        text-align: right;\n",
       "    }\n",
       "</style>\n",
       "<table border=\"1\" class=\"dataframe\">\n",
       "  <thead>\n",
       "    <tr style=\"text-align: right;\">\n",
       "      <th></th>\n",
       "      <th>Pclass</th>\n",
       "      <th>Sex</th>\n",
       "      <th>Age</th>\n",
       "      <th>Title</th>\n",
       "      <th>relatives</th>\n",
       "      <th>Fare_level</th>\n",
       "      <th>RN</th>\n",
       "      <th>peoplenumber</th>\n",
       "    </tr>\n",
       "  </thead>\n",
       "  <tbody>\n",
       "    <tr>\n",
       "      <th>0</th>\n",
       "      <td>3</td>\n",
       "      <td>1</td>\n",
       "      <td>22.0</td>\n",
       "      <td>2</td>\n",
       "      <td>1</td>\n",
       "      <td>0.205607</td>\n",
       "      <td>0</td>\n",
       "      <td>1</td>\n",
       "    </tr>\n",
       "    <tr>\n",
       "      <th>1</th>\n",
       "      <td>1</td>\n",
       "      <td>0</td>\n",
       "      <td>38.0</td>\n",
       "      <td>3</td>\n",
       "      <td>1</td>\n",
       "      <td>0.612903</td>\n",
       "      <td>1</td>\n",
       "      <td>1</td>\n",
       "    </tr>\n",
       "    <tr>\n",
       "      <th>2</th>\n",
       "      <td>3</td>\n",
       "      <td>0</td>\n",
       "      <td>26.0</td>\n",
       "      <td>1</td>\n",
       "      <td>0</td>\n",
       "      <td>0.205607</td>\n",
       "      <td>0</td>\n",
       "      <td>1</td>\n",
       "    </tr>\n",
       "  </tbody>\n",
       "</table>\n",
       "</div>"
      ],
      "text/plain": [
       "   Pclass  Sex   Age  Title  relatives  Fare_level  RN  peoplenumber\n",
       "0       3    1  22.0      2          1    0.205607   0             1\n",
       "1       1    0  38.0      3          1    0.612903   1             1\n",
       "2       3    0  26.0      1          0    0.205607   0             1"
      ]
     },
     "execution_count": 25,
     "metadata": {},
     "output_type": "execute_result"
    }
   ],
   "source": [
    "train.head(3)"
   ]
  },
  {
   "cell_type": "code",
   "execution_count": 26,
   "id": "818442d6",
   "metadata": {
    "execution": {
     "iopub.execute_input": "2023-03-06T09:29:28.771071Z",
     "iopub.status.busy": "2023-03-06T09:29:28.770648Z",
     "iopub.status.idle": "2023-03-06T09:29:29.247816Z",
     "shell.execute_reply": "2023-03-06T09:29:29.246766Z"
    },
    "papermill": {
     "duration": 0.491954,
     "end_time": "2023-03-06T09:29:29.250477",
     "exception": false,
     "start_time": "2023-03-06T09:29:28.758523",
     "status": "completed"
    },
    "tags": []
   },
   "outputs": [],
   "source": [
    "from sklearn.neighbors import KNeighborsClassifier\n",
    "from sklearn.tree import DecisionTreeClassifier\n",
    "from sklearn.ensemble import RandomForestClassifier\n",
    "from sklearn.naive_bayes import GaussianNB\n",
    "from sklearn.svm import SVC\n",
    "\n",
    "import numpy as np"
   ]
  },
  {
   "cell_type": "code",
   "execution_count": 27,
   "id": "d3ccbe63",
   "metadata": {
    "execution": {
     "iopub.execute_input": "2023-03-06T09:29:29.274508Z",
     "iopub.status.busy": "2023-03-06T09:29:29.273268Z",
     "iopub.status.idle": "2023-03-06T09:29:29.279198Z",
     "shell.execute_reply": "2023-03-06T09:29:29.277997Z"
    },
    "papermill": {
     "duration": 0.020305,
     "end_time": "2023-03-06T09:29:29.281700",
     "exception": false,
     "start_time": "2023-03-06T09:29:29.261395",
     "status": "completed"
    },
    "tags": []
   },
   "outputs": [],
   "source": [
    "from sklearn.model_selection import KFold\n",
    "from sklearn.model_selection import cross_val_score\n",
    "k_fold = KFold(n_splits=10, shuffle=True, random_state=0)"
   ]
  },
  {
   "cell_type": "code",
   "execution_count": null,
   "id": "d8b32ba1",
   "metadata": {
    "papermill": {
     "duration": 0.010818,
     "end_time": "2023-03-06T09:29:29.303164",
     "exception": false,
     "start_time": "2023-03-06T09:29:29.292346",
     "status": "completed"
    },
    "tags": []
   },
   "outputs": [],
   "source": []
  },
  {
   "cell_type": "code",
   "execution_count": 28,
   "id": "60c27b2a",
   "metadata": {
    "execution": {
     "iopub.execute_input": "2023-03-06T09:29:29.327572Z",
     "iopub.status.busy": "2023-03-06T09:29:29.326905Z",
     "iopub.status.idle": "2023-03-06T09:29:49.888194Z",
     "shell.execute_reply": "2023-03-06T09:29:49.887119Z"
    },
    "papermill": {
     "duration": 20.576662,
     "end_time": "2023-03-06T09:29:49.890958",
     "exception": false,
     "start_time": "2023-03-06T09:29:29.314296",
     "status": "completed"
    },
    "tags": []
   },
   "outputs": [
    {
     "name": "stdout",
     "output_type": "stream",
     "text": [
      "[0.8        0.7752809  0.78651685 0.75280899 0.79775281 0.78651685\n",
      " 0.78651685 0.78651685 0.79775281 0.79775281]\n"
     ]
    },
    {
     "data": {
      "text/plain": [
       "78.67"
      ]
     },
     "execution_count": 28,
     "metadata": {},
     "output_type": "execute_result"
    }
   ],
   "source": [
    "from xgboost import XGBClassifier\n",
    "xgb = XGBClassifier(learning_rate=0.01 ,n_estimators=860,max_depth=3,subsample=1, colsample_bytree=1, gamma=6,reg_alpha = 14,reg_lambda = 3)\n",
    "scoring = 'accuracy'\n",
    "score = cross_val_score(xgb, train, target, cv=k_fold, n_jobs=1, scoring=scoring)\n",
    "print(score)\n",
    "round(np.mean(score)*100,2)"
   ]
  }
 ],
 "metadata": {
  "kernelspec": {
   "display_name": "Python 3",
   "language": "python",
   "name": "python3"
  },
  "language_info": {
   "codemirror_mode": {
    "name": "ipython",
    "version": 3
   },
   "file_extension": ".py",
   "mimetype": "text/x-python",
   "name": "python",
   "nbconvert_exporter": "python",
   "pygments_lexer": "ipython3",
   "version": "3.7.12"
  },
  "papermill": {
   "default_parameters": {},
   "duration": 36.164937,
   "end_time": "2023-03-06T09:29:50.725205",
   "environment_variables": {},
   "exception": null,
   "input_path": "__notebook__.ipynb",
   "output_path": "__notebook__.ipynb",
   "parameters": {},
   "start_time": "2023-03-06T09:29:14.560268",
   "version": "2.4.0"
  }
 },
 "nbformat": 4,
 "nbformat_minor": 5
}
